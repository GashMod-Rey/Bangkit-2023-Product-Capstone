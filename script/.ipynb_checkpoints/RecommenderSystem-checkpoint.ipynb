{
 "cells": [
  {
   "cell_type": "markdown",
   "id": "b3dc241c",
   "metadata": {},
   "source": [
    "# Recommender System"
   ]
  },
  {
   "cell_type": "markdown",
   "id": "0700cd7c",
   "metadata": {},
   "source": [
    "## 1. Current Work Scope\n",
    "### Customized Jaccard Index"
   ]
  },
  {
   "cell_type": "code",
   "execution_count": 2,
   "id": "73d405c0",
   "metadata": {},
   "outputs": [
    {
     "name": "stdout",
     "output_type": "stream",
     "text": [
      "1.0\n"
     ]
    }
   ],
   "source": [
    "skill = [\"C\", \"Python\", \"Java\", \"R\", \"Unity\"]\n",
    "skillFilter = [\"C\", \"Java\", \"Python\"]\n",
    "\n",
    "skill = [x.upper() for x in skill]\n",
    "skillFilter = [x.upper() for x in skillFilter]\n",
    "\n",
    "skill = set(skill).intersection(skillFilter)\n",
    "\n",
    "intersection = len(list(set(skill).intersection(skillFilter)))\n",
    "union = (len(set(skill)) + len(set(skillFilter))) - intersection\n",
    "\n",
    "jaccard_index = float(intersection) / union\n",
    "print(jaccard_index)"
   ]
  },
  {
   "cell_type": "code",
   "execution_count": 7,
   "id": "5441bfe3",
   "metadata": {},
   "outputs": [
    {
     "name": "stdout",
     "output_type": "stream",
     "text": [
      "1.0\n"
     ]
    }
   ],
   "source": [
    "lang = [\"Indonesian\", \"Javanese\", \"English\", \"Japanese\", \"Mandarin\"]\n",
    "langFilter = [\"Indonesian\", \"English\"]\n",
    "\n",
    "lang = [x.upper() for x in lang]\n",
    "langFilter = [x.upper() for x in langFilter]\n",
    "\n",
    "lang = set(lang).intersection(langFilter)\n",
    "\n",
    "intersection = len(list(set(lang).intersection(langFilter)))\n",
    "union = (len(set(lang)) + len(set(langFilter))) - intersection\n",
    "\n",
    "jaccard_index = float(intersection) / union\n",
    "print(jaccard_index)"
   ]
  },
  {
   "cell_type": "markdown",
   "id": "898bf6ba",
   "metadata": {},
   "source": []
  },
  {
   "cell_type": "code",
   "execution_count": 1,
   "id": "d5fc1107",
   "metadata": {},
   "outputs": [
    {
     "name": "stdout",
     "output_type": "stream",
     "text": [
      "1.0\n"
     ]
    }
   ],
   "source": [
    "# Index with Exactly Age\n",
    "age = [20]\n",
    "ageFilter = [20]\n",
    "\n",
    "age = set(age).intersection(ageFilter)\n",
    "\n",
    "intersection = len(list(set(age).intersection(ageFilter)))\n",
    "union = (len(set(age)) + len(set(ageFilter))) - intersection\n",
    "\n",
    "jaccard_index = float(intersection) / union\n",
    "print(jaccard_index)"
   ]
  },
  {
   "cell_type": "code",
   "execution_count": 4,
   "id": "79e381d8",
   "metadata": {},
   "outputs": [
    {
     "name": "stdout",
     "output_type": "stream",
     "text": [
      "Age: 19\n",
      "Range Filter: 23-27\n",
      "Range Tolerance: 18-32\n",
      "Indeks: 0.3333333333333333\n"
     ]
    }
   ],
   "source": [
    "# Index with Range age\n",
    "age = 19\n",
    "ageFilter = [23, 27]\n",
    "tolerance = 5\n",
    "\n",
    "if ageFilter[0] <= age <= ageFilter[1]:\n",
    "    index = 1\n",
    "elif age < ageFilter[0] and age >= ageFilter[0] - tolerance:\n",
    "    index = (age - (ageFilter[0]-(tolerance+1))) / (ageFilter[0] - (ageFilter[0]-(tolerance+1)))\n",
    "elif age > ageFilter[1] and age <= ageFilter[1] + tolerance:\n",
    "    index = ((ageFilter[1]+(tolerance+1)) - age) / ((ageFilter[1]+(tolerance+1)) - ageFilter[1])\n",
    "else:\n",
    "    index = 0\n",
    "\n",
    "print(f\"Age: {age}\")\n",
    "print(f\"Range Filter: {ageFilter[0]}-{ageFilter[1]}\")\n",
    "print(f\"Range Tolerance: {ageFilter[0]-tolerance}-{ageFilter[1]+tolerance}\")\n",
    "print(f\"Index: {index}\")"
   ]
  },
  {
   "cell_type": "code",
   "execution_count": null,
   "id": "81cc4b57",
   "metadata": {},
   "outputs": [],
   "source": []
  }
 ],
 "metadata": {
  "kernelspec": {
   "display_name": "Python 3 (ipykernel)",
   "language": "python",
   "name": "python3"
  },
  "language_info": {
   "codemirror_mode": {
    "name": "ipython",
    "version": 3
   },
   "file_extension": ".py",
   "mimetype": "text/x-python",
   "name": "python",
   "nbconvert_exporter": "python",
   "pygments_lexer": "ipython3",
   "version": "3.7.1"
  }
 },
 "nbformat": 4,
 "nbformat_minor": 5
}
