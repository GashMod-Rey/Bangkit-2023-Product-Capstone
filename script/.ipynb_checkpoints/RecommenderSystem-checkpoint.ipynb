{
 "cells": [
  {
   "cell_type": "markdown",
   "id": "b3dc241c",
   "metadata": {},
   "source": [
    "# Recommender System"
   ]
  },
  {
   "cell_type": "markdown",
   "id": "0700cd7c",
   "metadata": {},
   "source": [
    "## 1. Current Work Scope\n",
    "### Customized Jaccard Index"
   ]
  },
  {
   "cell_type": "code",
   "execution_count": 3,
   "id": "73d405c0",
   "metadata": {},
   "outputs": [
    {
     "name": "stdout",
     "output_type": "stream",
     "text": [
      "1.0\n"
     ]
    }
   ],
   "source": [
    "skill = [\"C\", \"Python\", \"Java\"]\n",
    "skillFilter = [\"C\", \"Java\", \"Python\"]\n",
    "\n",
    "skill = [x.upper() for x in skill]\n",
    "skillFilter = [x.upper() for x in skillFilter]\n",
    "\n",
    "skill = set(skill).intersection(skillFilter)\n",
    "\n",
    "intersection = len(list(set(skill).intersection(skillFilter)))\n",
    "union = (len(set(skill)) + len(set(skillFilter))) - intersection\n",
    "\n",
    "jaccard_index = float(intersection) / union\n",
    "print(jaccard_index)"
   ]
  },
  {
   "cell_type": "code",
   "execution_count": 7,
   "id": "5441bfe3",
   "metadata": {},
   "outputs": [
    {
     "name": "stdout",
     "output_type": "stream",
     "text": [
      "1.0\n"
     ]
    }
   ],
   "source": [
    "lang = [\"Indonesian\", \"Javanese\", \"English\", \"Japanese\", \"Mandarin\"]\n",
    "langFilter = [\"Indonesian\", \"English\"]\n",
    "\n",
    "lang = [x.upper() for x in lang]\n",
    "langFilter = [x.upper() for x in langFilter]\n",
    "\n",
    "lang = set(lang).intersection(langFilter)\n",
    "\n",
    "intersection = len(list(set(lang).intersection(langFilter)))\n",
    "union = (len(set(lang)) + len(set(langFilter))) - intersection\n",
    "\n",
    "jaccard_index = float(intersection) / union\n",
    "print(jaccard_index)"
   ]
  },
  {
   "cell_type": "markdown",
   "id": "898bf6ba",
   "metadata": {},
   "source": []
  },
  {
   "cell_type": "code",
   "execution_count": null,
   "id": "d5fc1107",
   "metadata": {},
   "outputs": [],
   "source": []
  }
 ],
 "metadata": {
  "kernelspec": {
   "display_name": "Python 3 (ipykernel)",
   "language": "python",
   "name": "python3"
  },
  "language_info": {
   "codemirror_mode": {
    "name": "ipython",
    "version": 3
   },
   "file_extension": ".py",
   "mimetype": "text/x-python",
   "name": "python",
   "nbconvert_exporter": "python",
   "pygments_lexer": "ipython3",
   "version": "3.9.12"
  }
 },
 "nbformat": 4,
 "nbformat_minor": 5
}
