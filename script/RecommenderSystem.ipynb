{
 "cells": [
  {
   "cell_type": "markdown",
   "id": "b3dc241c",
   "metadata": {},
   "source": [
    "# Recommender System"
   ]
  },
  {
   "cell_type": "markdown",
   "id": "0700cd7c",
   "metadata": {},
   "source": [
    "## 1. Current Work Scope\n",
    "### Filter for Skills and Languages using Customized Jaccard Index"
   ]
  },
  {
   "cell_type": "code",
   "execution_count": 1,
   "id": "73d405c0",
   "metadata": {},
   "outputs": [],
   "source": [
    "def score_skill(skill, skillFilter):\n",
    "    skill = [x.upper() for x in skill]\n",
    "    skillFilter = [x.upper() for x in skillFilter]\n",
    "\n",
    "    skill = set(skill).intersection(skillFilter)\n",
    "\n",
    "    intersection = len(list(set(skill).intersection(skillFilter)))\n",
    "    union = (len(set(skill)) + len(set(skillFilter))) - intersection\n",
    "\n",
    "    jaccard_index = float(intersection) / union\n",
    "    return round(jaccard_index, 2)"
   ]
  },
  {
   "cell_type": "code",
   "execution_count": 2,
   "id": "5441bfe3",
   "metadata": {},
   "outputs": [],
   "source": [
    "def score_lang(lang, langFilter):\n",
    "    lang = [x.upper() for x in lang]\n",
    "    langFilter = [x.upper() for x in langFilter]\n",
    "\n",
    "    lang = set(lang).intersection(langFilter)\n",
    "\n",
    "    intersection = len(list(set(lang).intersection(langFilter)))\n",
    "    union = (len(set(lang)) + len(set(langFilter))) - intersection\n",
    "\n",
    "    jaccard_index = float(intersection) / union\n",
    "    return round(jaccard_index, 2)"
   ]
  },
  {
   "cell_type": "markdown",
   "id": "898bf6ba",
   "metadata": {},
   "source": [
    "### Filter for Unfixed Age and Salary using Fuzzy Index"
   ]
  },
  {
   "cell_type": "code",
   "execution_count": 3,
   "id": "79e381d8",
   "metadata": {},
   "outputs": [],
   "source": [
    "def score_age(age, ageFilter, tolerance):\n",
    "    if age >= ageFilter[0] and age <= ageFilter[1]:\n",
    "        index = 1\n",
    "    elif age >= ageFilter[1] and age <= ageFilter[1] + tolerance:\n",
    "        index = round((tolerance + 1 - age + ageFilter[1])/(tolerance + 1), 2)\n",
    "    elif age <= ageFilter[0] and age >= ageFilter[0] - tolerance:\n",
    "        index = round((tolerance + 1 - ageFilter[0] + age)/(tolerance + 1), 2)\n",
    "    else:\n",
    "        index = 0\n",
    "\n",
    "    return index"
   ]
  },
  {
   "cell_type": "code",
   "execution_count": 4,
   "id": "81cc4b57",
   "metadata": {},
   "outputs": [],
   "source": [
    "def score_salary(salary, salaryFilter, tol):\n",
    "    if salary >= salaryFilter[0] and salary <= salaryFilter[1]:\n",
    "        index = 1\n",
    "    elif salary >= salaryFilter[1]:\n",
    "        index = round((tol + 1 + salaryFilter[1] - salary)/(tol + 1), 2)\n",
    "    elif salary <= salaryFilter[0]:\n",
    "        index = round((tol + 1 + salary - salaryFilter[0])/(tol + 1), 2)\n",
    "\n",
    "    return index"
   ]
  },
  {
   "cell_type": "markdown",
   "id": "273ee796",
   "metadata": {},
   "source": [
    "### Demo for Giving Person Score/Index"
   ]
  },
  {
   "cell_type": "code",
   "execution_count": 17,
   "id": "796a3687",
   "metadata": {},
   "outputs": [
    {
     "name": "stdout",
     "output_type": "stream",
     "text": [
      "1.0\n",
      "0.6666666666666666\n",
      "0.83\n",
      "0.75\n"
     ]
    }
   ],
   "source": [
    "person = {\"skill\": [\"C\", \"C++\", \"Java\", \"Python\"], \"lang\": [\"Indonesian\", \"English\", \"Mandarin\"], \"age\": 22, \"salary\": 5.5}\n",
    "ageFilter = [23, 27]\n",
    "tolerance = 5\n",
    "\n",
    "skillFilter = [\"C\", \"C++\", \"Java\"]\n",
    "langFilter = [\"English\", \"Mandarin\", \"Javanese\"]\n",
    "\n",
    "salaryFilter = [2, 5]\n",
    "tol = 1\n",
    "\n",
    "print(score_skill(person[\"skill\"], skillFilter))\n",
    "print(score_lang(person[\"lang\"], langFilter))\n",
    "print(score_age(person[\"age\"], ageFilter, tolerance))\n",
    "print(score_salary(person[\"salary\"], salaryFilter, tol))"
   ]
  },
  {
   "cell_type": "markdown",
   "id": "d6ce85c0",
   "metadata": {},
   "source": [
    "### Making Model for Ranking (with TensorFlow)"
   ]
  },
  {
   "cell_type": "code",
   "execution_count": null,
   "id": "2ef40230",
   "metadata": {},
   "outputs": [],
   "source": [
    "# ???"
   ]
  }
 ],
 "metadata": {
  "kernelspec": {
   "display_name": "Python 3 (ipykernel)",
   "language": "python",
   "name": "python3"
  },
  "language_info": {
   "codemirror_mode": {
    "name": "ipython",
    "version": 3
   },
   "file_extension": ".py",
   "mimetype": "text/x-python",
   "name": "python",
   "nbconvert_exporter": "python",
   "pygments_lexer": "ipython3",
   "version": "3.9.12"
  }
 },
 "nbformat": 4,
 "nbformat_minor": 5
}
